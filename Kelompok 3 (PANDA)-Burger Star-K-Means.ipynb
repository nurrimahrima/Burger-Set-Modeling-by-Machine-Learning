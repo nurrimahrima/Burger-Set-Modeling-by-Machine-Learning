{
 "cells": [
  {
   "cell_type": "markdown",
   "metadata": {},
   "source": [
    "# Clustering Data Burger Star using K-Means Algorithm"
   ]
  },
  {
   "cell_type": "markdown",
   "metadata": {},
   "source": [
    "## Import Library"
   ]
  },
  {
   "cell_type": "code",
   "execution_count": 2,
   "metadata": {},
   "outputs": [],
   "source": [
    "import pandas as pd\n",
    "import numpy as np\n",
    "import seaborn as sns\n",
    "import matplotlib.pyplot as plt\n",
    "%matplotlib inline\n",
    "from sklearn.cluster import KMeans"
   ]
  },
  {
   "cell_type": "markdown",
   "metadata": {},
   "source": [
    "## Uploading CSV File"
   ]
  },
  {
   "cell_type": "code",
   "execution_count": 3,
   "metadata": {},
   "outputs": [],
   "source": [
    "data = pd.read_csv(\"Static Dataset Transaction - Burger Star (Outlet A) .csv\")"
   ]
  },
  {
   "cell_type": "code",
   "execution_count": 4,
   "metadata": {},
   "outputs": [
    {
     "data": {
      "text/html": [
       "<div>\n",
       "<style scoped>\n",
       "    .dataframe tbody tr th:only-of-type {\n",
       "        vertical-align: middle;\n",
       "    }\n",
       "\n",
       "    .dataframe tbody tr th {\n",
       "        vertical-align: top;\n",
       "    }\n",
       "\n",
       "    .dataframe thead th {\n",
       "        text-align: right;\n",
       "    }\n",
       "</style>\n",
       "<table border=\"1\" class=\"dataframe\">\n",
       "  <thead>\n",
       "    <tr style=\"text-align: right;\">\n",
       "      <th></th>\n",
       "      <th>Timestamp</th>\n",
       "      <th>Type Burger</th>\n",
       "      <th>Code Burger</th>\n",
       "      <th>Amount Burger</th>\n",
       "      <th>Type Drink</th>\n",
       "      <th>Code Drink</th>\n",
       "      <th>Amount Drink</th>\n",
       "      <th>Gender</th>\n",
       "      <th>Payment</th>\n",
       "    </tr>\n",
       "  </thead>\n",
       "  <tbody>\n",
       "    <tr>\n",
       "      <th>0</th>\n",
       "      <td>10:01</td>\n",
       "      <td>Beef burger</td>\n",
       "      <td>1</td>\n",
       "      <td>6</td>\n",
       "      <td>Mineral water</td>\n",
       "      <td>1</td>\n",
       "      <td>3</td>\n",
       "      <td>1</td>\n",
       "      <td>DANA</td>\n",
       "    </tr>\n",
       "    <tr>\n",
       "      <th>1</th>\n",
       "      <td>10:04</td>\n",
       "      <td>Cheese burger</td>\n",
       "      <td>3</td>\n",
       "      <td>12</td>\n",
       "      <td>Coke</td>\n",
       "      <td>2</td>\n",
       "      <td>10</td>\n",
       "      <td>0</td>\n",
       "      <td>DANA</td>\n",
       "    </tr>\n",
       "    <tr>\n",
       "      <th>2</th>\n",
       "      <td>10:05</td>\n",
       "      <td>Double cheese burger</td>\n",
       "      <td>4</td>\n",
       "      <td>10</td>\n",
       "      <td>Mineral water</td>\n",
       "      <td>1</td>\n",
       "      <td>5</td>\n",
       "      <td>0</td>\n",
       "      <td>LINK AJA</td>\n",
       "    </tr>\n",
       "    <tr>\n",
       "      <th>3</th>\n",
       "      <td>10:06</td>\n",
       "      <td>Chicken burger</td>\n",
       "      <td>2</td>\n",
       "      <td>9</td>\n",
       "      <td>Coffe</td>\n",
       "      <td>3</td>\n",
       "      <td>9</td>\n",
       "      <td>0</td>\n",
       "      <td>DANA</td>\n",
       "    </tr>\n",
       "    <tr>\n",
       "      <th>4</th>\n",
       "      <td>10:07</td>\n",
       "      <td>Cheese burger</td>\n",
       "      <td>3</td>\n",
       "      <td>11</td>\n",
       "      <td>Coke</td>\n",
       "      <td>2</td>\n",
       "      <td>3</td>\n",
       "      <td>1</td>\n",
       "      <td>DANA</td>\n",
       "    </tr>\n",
       "  </tbody>\n",
       "</table>\n",
       "</div>"
      ],
      "text/plain": [
       "  Timestamp           Type Burger  Code Burger  Amount Burger     Type Drink  \\\n",
       "0     10:01           Beef burger            1              6  Mineral water   \n",
       "1     10:04         Cheese burger            3             12           Coke   \n",
       "2     10:05  Double cheese burger            4             10  Mineral water   \n",
       "3     10:06        Chicken burger            2              9          Coffe   \n",
       "4     10:07         Cheese burger            3             11           Coke   \n",
       "\n",
       "   Code Drink  Amount Drink  Gender   Payment  \n",
       "0           1             3       1      DANA  \n",
       "1           2            10       0      DANA  \n",
       "2           1             5       0  LINK AJA  \n",
       "3           3             9       0      DANA  \n",
       "4           2             3       1      DANA  "
      ]
     },
     "execution_count": 4,
     "metadata": {},
     "output_type": "execute_result"
    }
   ],
   "source": [
    "data.head()"
   ]
  },
  {
   "cell_type": "markdown",
   "metadata": {},
   "source": [
    "## Take 'Amount Burger' and 'Amount Drink' for Clustering"
   ]
  },
  {
   "cell_type": "code",
   "execution_count": 5,
   "metadata": {},
   "outputs": [
    {
     "data": {
      "text/html": [
       "<div>\n",
       "<style scoped>\n",
       "    .dataframe tbody tr th:only-of-type {\n",
       "        vertical-align: middle;\n",
       "    }\n",
       "\n",
       "    .dataframe tbody tr th {\n",
       "        vertical-align: top;\n",
       "    }\n",
       "\n",
       "    .dataframe thead th {\n",
       "        text-align: right;\n",
       "    }\n",
       "</style>\n",
       "<table border=\"1\" class=\"dataframe\">\n",
       "  <thead>\n",
       "    <tr style=\"text-align: right;\">\n",
       "      <th></th>\n",
       "      <th>Amount Burger</th>\n",
       "      <th>Amount Drink</th>\n",
       "    </tr>\n",
       "  </thead>\n",
       "  <tbody>\n",
       "    <tr>\n",
       "      <th>0</th>\n",
       "      <td>6</td>\n",
       "      <td>3</td>\n",
       "    </tr>\n",
       "    <tr>\n",
       "      <th>1</th>\n",
       "      <td>12</td>\n",
       "      <td>10</td>\n",
       "    </tr>\n",
       "    <tr>\n",
       "      <th>2</th>\n",
       "      <td>10</td>\n",
       "      <td>5</td>\n",
       "    </tr>\n",
       "    <tr>\n",
       "      <th>3</th>\n",
       "      <td>9</td>\n",
       "      <td>9</td>\n",
       "    </tr>\n",
       "    <tr>\n",
       "      <th>4</th>\n",
       "      <td>11</td>\n",
       "      <td>3</td>\n",
       "    </tr>\n",
       "  </tbody>\n",
       "</table>\n",
       "</div>"
      ],
      "text/plain": [
       "   Amount Burger  Amount Drink\n",
       "0              6             3\n",
       "1             12            10\n",
       "2             10             5\n",
       "3              9             9\n",
       "4             11             3"
      ]
     },
     "execution_count": 5,
     "metadata": {},
     "output_type": "execute_result"
    }
   ],
   "source": [
    "y = [\"Amount Burger\", \"Amount Drink\"]\n",
    "y = data[y]\n",
    "y.head()"
   ]
  },
  {
   "cell_type": "markdown",
   "metadata": {},
   "source": [
    "## Count Optimal Value of Cluster using Silhouette"
   ]
  },
  {
   "cell_type": "code",
   "execution_count": 6,
   "metadata": {},
   "outputs": [
    {
     "name": "stdout",
     "output_type": "stream",
     "text": [
      "0.501806717699717\n",
      "0.5364180462492156\n",
      "0.5329996827159573\n"
     ]
    }
   ],
   "source": [
    "range_n_clusters = [2, 3, 4]\n",
    "for n_cluster in range_n_clusters:\n",
    "    kmeans = KMeans(n_clusters = n_cluster, max_iter =1000)\n",
    "    kmeans.fit(y)\n",
    "    labels = kmeans.predict(y)\n",
    "    from sklearn.metrics import silhouette_score\n",
    "    silhouette_avg = silhouette_score(y, labels)\n",
    "    print(silhouette_avg)"
   ]
  },
  {
   "cell_type": "markdown",
   "metadata": {},
   "source": [
    "## Clustering Process using K-Means"
   ]
  },
  {
   "cell_type": "code",
   "execution_count": 17,
   "metadata": {},
   "outputs": [
    {
     "data": {
      "text/plain": [
       "KMeans(algorithm='auto', copy_x=True, init='k-means++', max_iter=1000,\n",
       "    n_clusters=3, n_init=10, n_jobs=1, precompute_distances='auto',\n",
       "    random_state=None, tol=0.0001, verbose=0)"
      ]
     },
     "execution_count": 17,
     "metadata": {},
     "output_type": "execute_result"
    }
   ],
   "source": [
    "kmeans = KMeans(n_clusters = 3, max_iter =1000)\n",
    "kmeans.fit(y)"
   ]
  },
  {
   "cell_type": "markdown",
   "metadata": {},
   "source": [
    "## Clustering Result"
   ]
  },
  {
   "cell_type": "code",
   "execution_count": 18,
   "metadata": {},
   "outputs": [],
   "source": [
    "labels = kmeans.predict(y)\n",
    "centroids = kmeans.cluster_centers_"
   ]
  },
  {
   "cell_type": "code",
   "execution_count": 19,
   "metadata": {},
   "outputs": [
    {
     "name": "stdout",
     "output_type": "stream",
     "text": [
      "[0 2 1 2 1 1 2 0 0 2 1 2 1 2 1 2 0 0 0 0 2 0 0 0 0 1 2 1 2 0 1 2 1 2 0 0 0\n",
      " 0 2 0 0 0 0 0 0 0 0 0 0 1 2 1 2 1 1 2 1 0 0 1 2 1 2 1 1 2 1 1 1 1 2 1 2 0\n",
      " 0 0 0 0 0 0 0 0 0 0 0 0 0 0 0 2 0 0 0 0 0 0 0 0 0 1 2 1 2 1 1 2 1 0 0 1 2\n",
      " 0 0 1 2 1 2 1 1 2 1 0 0 1 2 1 2 1 1 2 1 1 1 1 2 1 2 0 0 0 0 0 0 0 0 0 0 0\n",
      " 0 0 0 0 0 2 0 0 0 0 0 0 0 0 0 1 2 1 2 1 1 2 1 0 0 1 2 1 2 0 0 0 0 2 0 0 0\n",
      " 0 0 0 0 0 0 0 1 2 1 2 1 1 2 1 0 0 1 2 1 2 1 1 2 1 1 1 1 0 0 0 0 0 0 0 0 0\n",
      " 0 0 0 0 0 0 0 0 0 0 2 0 0 0 0 0 0 0 0 0 1 2 1 2 1 1 2 1 0 0 1 2 1 2 0 0 0\n",
      " 0 2 0 0 0 0 0 0 0 0 1 2 0 0 0 0 2 0 0 0 0 0 0 0 0 0 0 1 2 1 2 1 1 2 1 0 0\n",
      " 1 2 1 2 1 1 2 1 1 1 1 2 1 2 0 0]\n"
     ]
    }
   ],
   "source": [
    "print(labels)"
   ]
  },
  {
   "cell_type": "code",
   "execution_count": 20,
   "metadata": {},
   "outputs": [
    {
     "name": "stdout",
     "output_type": "stream",
     "text": [
      "[[3.38271605 2.72222222]\n",
      " [9.29069767 2.45348837]\n",
      " [9.421875   8.890625  ]]\n"
     ]
    }
   ],
   "source": [
    "print(centroids)"
   ]
  },
  {
   "cell_type": "code",
   "execution_count": 21,
   "metadata": {},
   "outputs": [
    {
     "data": {
      "text/plain": [
       "Text(0,0.5,'Amount Drink')"
      ]
     },
     "execution_count": 21,
     "metadata": {},
     "output_type": "execute_result"
    },
    {
     "data": {
      "image/png": "[encoded data removed]",
      "text/plain": [
       "<matplotlib.figure.Figure at 0x26066c943c8>"
      ]
     },
     "metadata": {},
     "output_type": "display_data"
    }
   ],
   "source": [
    "plt.scatter(y[\"Amount Burger\"], y[\"Amount Drink\"], c=labels, s=50, cmap='viridis')\n",
    "plt.xlabel(\"Amount Burger\")\n",
    "plt.ylabel(\"Amount Drink\")"
   ]
  },
  {
   "cell_type": "markdown",
   "metadata": {},
   "source": [
    "## Make New Column Contain of the Cluster Result"
   ]
  },
  {
   "cell_type": "code",
   "execution_count": 22,
   "metadata": {},
   "outputs": [],
   "source": [
    "labels = pd.DataFrame(labels)"
   ]
  },
  {
   "cell_type": "code",
   "execution_count": 23,
   "metadata": {},
   "outputs": [
    {
     "data": {
      "text/html": [
       "<div>\n",
       "<style scoped>\n",
       "    .dataframe tbody tr th:only-of-type {\n",
       "        vertical-align: middle;\n",
       "    }\n",
       "\n",
       "    .dataframe tbody tr th {\n",
       "        vertical-align: top;\n",
       "    }\n",
       "\n",
       "    .dataframe thead th {\n",
       "        text-align: right;\n",
       "    }\n",
       "</style>\n",
       "<table border=\"1\" class=\"dataframe\">\n",
       "  <thead>\n",
       "    <tr style=\"text-align: right;\">\n",
       "      <th></th>\n",
       "      <th>0</th>\n",
       "    </tr>\n",
       "  </thead>\n",
       "  <tbody>\n",
       "    <tr>\n",
       "      <th>0</th>\n",
       "      <td>0</td>\n",
       "    </tr>\n",
       "    <tr>\n",
       "      <th>1</th>\n",
       "      <td>2</td>\n",
       "    </tr>\n",
       "    <tr>\n",
       "      <th>2</th>\n",
       "      <td>1</td>\n",
       "    </tr>\n",
       "    <tr>\n",
       "      <th>3</th>\n",
       "      <td>2</td>\n",
       "    </tr>\n",
       "    <tr>\n",
       "      <th>4</th>\n",
       "      <td>1</td>\n",
       "    </tr>\n",
       "  </tbody>\n",
       "</table>\n",
       "</div>"
      ],
      "text/plain": [
       "   0\n",
       "0  0\n",
       "1  2\n",
       "2  1\n",
       "3  2\n",
       "4  1"
      ]
     },
     "execution_count": 23,
     "metadata": {},
     "output_type": "execute_result"
    }
   ],
   "source": [
    "labels.head()"
   ]
  },
  {
   "cell_type": "code",
   "execution_count": 24,
   "metadata": {},
   "outputs": [],
   "source": [
    "data[\"Klaster\"] = labels"
   ]
  },
  {
   "cell_type": "code",
   "execution_count": 25,
   "metadata": {},
   "outputs": [
    {
     "data": {
      "text/html": [
       "<div>\n",
       "<style scoped>\n",
       "    .dataframe tbody tr th:only-of-type {\n",
       "        vertical-align: middle;\n",
       "    }\n",
       "\n",
       "    .dataframe tbody tr th {\n",
       "        vertical-align: top;\n",
       "    }\n",
       "\n",
       "    .dataframe thead th {\n",
       "        text-align: right;\n",
       "    }\n",
       "</style>\n",
       "<table border=\"1\" class=\"dataframe\">\n",
       "  <thead>\n",
       "    <tr style=\"text-align: right;\">\n",
       "      <th></th>\n",
       "      <th>Timestamp</th>\n",
       "      <th>Type Burger</th>\n",
       "      <th>Code Burger</th>\n",
       "      <th>Amount Burger</th>\n",
       "      <th>Type Drink</th>\n",
       "      <th>Code Drink</th>\n",
       "      <th>Amount Drink</th>\n",
       "      <th>Gender</th>\n",
       "      <th>Payment</th>\n",
       "      <th>Klaster</th>\n",
       "    </tr>\n",
       "  </thead>\n",
       "  <tbody>\n",
       "    <tr>\n",
       "      <th>0</th>\n",
       "      <td>10:01</td>\n",
       "      <td>Beef burger</td>\n",
       "      <td>1</td>\n",
       "      <td>6</td>\n",
       "      <td>Mineral water</td>\n",
       "      <td>1</td>\n",
       "      <td>3</td>\n",
       "      <td>1</td>\n",
       "      <td>DANA</td>\n",
       "      <td>0</td>\n",
       "    </tr>\n",
       "    <tr>\n",
       "      <th>1</th>\n",
       "      <td>10:04</td>\n",
       "      <td>Cheese burger</td>\n",
       "      <td>3</td>\n",
       "      <td>12</td>\n",
       "      <td>Coke</td>\n",
       "      <td>2</td>\n",
       "      <td>10</td>\n",
       "      <td>0</td>\n",
       "      <td>DANA</td>\n",
       "      <td>2</td>\n",
       "    </tr>\n",
       "    <tr>\n",
       "      <th>2</th>\n",
       "      <td>10:05</td>\n",
       "      <td>Double cheese burger</td>\n",
       "      <td>4</td>\n",
       "      <td>10</td>\n",
       "      <td>Mineral water</td>\n",
       "      <td>1</td>\n",
       "      <td>5</td>\n",
       "      <td>0</td>\n",
       "      <td>LINK AJA</td>\n",
       "      <td>1</td>\n",
       "    </tr>\n",
       "    <tr>\n",
       "      <th>3</th>\n",
       "      <td>10:06</td>\n",
       "      <td>Chicken burger</td>\n",
       "      <td>2</td>\n",
       "      <td>9</td>\n",
       "      <td>Coffe</td>\n",
       "      <td>3</td>\n",
       "      <td>9</td>\n",
       "      <td>0</td>\n",
       "      <td>DANA</td>\n",
       "      <td>2</td>\n",
       "    </tr>\n",
       "    <tr>\n",
       "      <th>4</th>\n",
       "      <td>10:07</td>\n",
       "      <td>Cheese burger</td>\n",
       "      <td>3</td>\n",
       "      <td>11</td>\n",
       "      <td>Coke</td>\n",
       "      <td>2</td>\n",
       "      <td>3</td>\n",
       "      <td>1</td>\n",
       "      <td>DANA</td>\n",
       "      <td>1</td>\n",
       "    </tr>\n",
       "  </tbody>\n",
       "</table>\n",
       "</div>"
      ],
      "text/plain": [
       "  Timestamp           Type Burger  Code Burger  Amount Burger     Type Drink  \\\n",
       "0     10:01           Beef burger            1              6  Mineral water   \n",
       "1     10:04         Cheese burger            3             12           Coke   \n",
       "2     10:05  Double cheese burger            4             10  Mineral water   \n",
       "3     10:06        Chicken burger            2              9          Coffe   \n",
       "4     10:07         Cheese burger            3             11           Coke   \n",
       "\n",
       "   Code Drink  Amount Drink  Gender   Payment  Klaster  \n",
       "0           1             3       1      DANA        0  \n",
       "1           2            10       0      DANA        2  \n",
       "2           1             5       0  LINK AJA        1  \n",
       "3           3             9       0      DANA        2  \n",
       "4           2             3       1      DANA        1  "
      ]
     },
     "execution_count": 25,
     "metadata": {},
     "output_type": "execute_result"
    }
   ],
   "source": [
    "data.head()"
   ]
  },
  {
   "cell_type": "code",
   "execution_count": 26,
   "metadata": {},
   "outputs": [
    {
     "data": {
      "text/html": [
       "<div>\n",
       "<style scoped>\n",
       "    .dataframe tbody tr th:only-of-type {\n",
       "        vertical-align: middle;\n",
       "    }\n",
       "\n",
       "    .dataframe tbody tr th {\n",
       "        vertical-align: top;\n",
       "    }\n",
       "\n",
       "    .dataframe thead th {\n",
       "        text-align: right;\n",
       "    }\n",
       "</style>\n",
       "<table border=\"1\" class=\"dataframe\">\n",
       "  <thead>\n",
       "    <tr style=\"text-align: right;\">\n",
       "      <th></th>\n",
       "      <th>Timestamp</th>\n",
       "      <th>Type Burger</th>\n",
       "      <th>Code Burger</th>\n",
       "      <th>Amount Burger</th>\n",
       "      <th>Type Drink</th>\n",
       "      <th>Code Drink</th>\n",
       "      <th>Amount Drink</th>\n",
       "      <th>Gender</th>\n",
       "      <th>Payment</th>\n",
       "      <th>Klaster</th>\n",
       "      <th>Pembelian</th>\n",
       "    </tr>\n",
       "  </thead>\n",
       "  <tbody>\n",
       "    <tr>\n",
       "      <th>0</th>\n",
       "      <td>10:01</td>\n",
       "      <td>Beef burger</td>\n",
       "      <td>1</td>\n",
       "      <td>6</td>\n",
       "      <td>Mineral water</td>\n",
       "      <td>1</td>\n",
       "      <td>3</td>\n",
       "      <td>1</td>\n",
       "      <td>DANA</td>\n",
       "      <td>0</td>\n",
       "      <td>Sedikit</td>\n",
       "    </tr>\n",
       "    <tr>\n",
       "      <th>1</th>\n",
       "      <td>10:04</td>\n",
       "      <td>Cheese burger</td>\n",
       "      <td>3</td>\n",
       "      <td>12</td>\n",
       "      <td>Coke</td>\n",
       "      <td>2</td>\n",
       "      <td>10</td>\n",
       "      <td>0</td>\n",
       "      <td>DANA</td>\n",
       "      <td>2</td>\n",
       "      <td>Banyak</td>\n",
       "    </tr>\n",
       "    <tr>\n",
       "      <th>2</th>\n",
       "      <td>10:05</td>\n",
       "      <td>Double cheese burger</td>\n",
       "      <td>4</td>\n",
       "      <td>10</td>\n",
       "      <td>Mineral water</td>\n",
       "      <td>1</td>\n",
       "      <td>5</td>\n",
       "      <td>0</td>\n",
       "      <td>LINK AJA</td>\n",
       "      <td>1</td>\n",
       "      <td>Sedang</td>\n",
       "    </tr>\n",
       "    <tr>\n",
       "      <th>3</th>\n",
       "      <td>10:06</td>\n",
       "      <td>Chicken burger</td>\n",
       "      <td>2</td>\n",
       "      <td>9</td>\n",
       "      <td>Coffe</td>\n",
       "      <td>3</td>\n",
       "      <td>9</td>\n",
       "      <td>0</td>\n",
       "      <td>DANA</td>\n",
       "      <td>2</td>\n",
       "      <td>Banyak</td>\n",
       "    </tr>\n",
       "    <tr>\n",
       "      <th>4</th>\n",
       "      <td>10:07</td>\n",
       "      <td>Cheese burger</td>\n",
       "      <td>3</td>\n",
       "      <td>11</td>\n",
       "      <td>Coke</td>\n",
       "      <td>2</td>\n",
       "      <td>3</td>\n",
       "      <td>1</td>\n",
       "      <td>DANA</td>\n",
       "      <td>1</td>\n",
       "      <td>Sedang</td>\n",
       "    </tr>\n",
       "  </tbody>\n",
       "</table>\n",
       "</div>"
      ],
      "text/plain": [
       "  Timestamp           Type Burger  Code Burger  Amount Burger     Type Drink  \\\n",
       "0     10:01           Beef burger            1              6  Mineral water   \n",
       "1     10:04         Cheese burger            3             12           Coke   \n",
       "2     10:05  Double cheese burger            4             10  Mineral water   \n",
       "3     10:06        Chicken burger            2              9          Coffe   \n",
       "4     10:07         Cheese burger            3             11           Coke   \n",
       "\n",
       "   Code Drink  Amount Drink  Gender   Payment  Klaster Pembelian  \n",
       "0           1             3       1      DANA        0   Sedikit  \n",
       "1           2            10       0      DANA        2    Banyak  \n",
       "2           1             5       0  LINK AJA        1    Sedang  \n",
       "3           3             9       0      DANA        2    Banyak  \n",
       "4           2             3       1      DANA        1    Sedang  "
      ]
     },
     "execution_count": 26,
     "metadata": {},
     "output_type": "execute_result"
    }
   ],
   "source": [
    "data[\"Pembelian\"] = np.where(data[\"Klaster\"]==0, \"Sedikit\",np.where(data[\"Klaster\"]==1, \"Sedang\", \"Banyak\"))\n",
    "data.head()"
   ]
  },
  {
   "cell_type": "markdown",
   "metadata": {},
   "source": [
    "## Make Some Visualization based on Clustering Result"
   ]
  },
  {
   "cell_type": "markdown",
   "metadata": {},
   "source": [
    "### Cluster 0 (Cluster With a Small Number of Purchasing)"
   ]
  },
  {
   "cell_type": "code",
   "execution_count": 27,
   "metadata": {},
   "outputs": [
    {
     "data": {
      "text/plain": [
       "Text(0.5,1,'Jumlah Penggunaan Metode Pembayaran')"
      ]
     },
     "execution_count": 27,
     "metadata": {},
     "output_type": "execute_result"
    },
    {
     "data": {
      "image/png": "[encoded data removed]",
      "text/plain": [
       "<matplotlib.figure.Figure at 0x26066d2a0f0>"
      ]
     },
     "metadata": {},
     "output_type": "display_data"
    }
   ],
   "source": [
    "klaster_0 = data[data.Klaster == 0]\n",
    "payment_0 = klaster_0.groupby(\"Payment\")\n",
    "hitung = payment_0[\"Payment\"].count().sort_values(ascending = False)\n",
    "\n",
    "sns.barplot(x = hitung.index, y = hitung)\n",
    "plt.xticks(rotation = 45, fontsize = 10)\n",
    "plt.title(\"Jumlah Penggunaan Metode Pembayaran\")"
   ]
  },
  {
   "cell_type": "code",
   "execution_count": 40,
   "metadata": {},
   "outputs": [
    {
     "data": {
      "text/plain": [
       "Text(0.5,1,'Jumlah Pembelian Minuman')"
      ]
     },
     "execution_count": 40,
     "metadata": {},
     "output_type": "execute_result"
    },
    {
     "data": {
      "image/png": "[encoded data removed]",
      "text/plain": [
       "<matplotlib.figure.Figure at 0x26067e1eb70>"
      ]
     },
     "metadata": {},
     "output_type": "display_data"
    }
   ],
   "source": [
    "f = plt.figure(figsize = (15,5))\n",
    "\n",
    "klaster_0 = data[data.Klaster == 0]\n",
    "burger_0 = klaster_0.groupby(\"Type Burger\")\n",
    "hitung = burger_0[\"Amount Burger\"].count().sort_values(ascending = False)\n",
    "\n",
    "f.add_subplot(1, 2, 1)\n",
    "sns.barplot(x = hitung.index, y = hitung)\n",
    "plt.xticks(rotation = 45, fontsize = 10)\n",
    "plt.title(\"Jumlah Pembelian Burger\")\n",
    "\n",
    "klaster_0 = data[data.Klaster == 0]\n",
    "drink_0 = klaster_0.groupby(\"Type Drink\")\n",
    "hitung = drink_0[\"Amount Drink\"].count().sort_values(ascending = False)\n",
    "\n",
    "f.add_subplot(1, 2, 2)\n",
    "sns.barplot(x = hitung.index, y = hitung)\n",
    "plt.xticks(rotation = 45, fontsize = 10)\n",
    "plt.title(\"Jumlah Pembelian Minuman\")"
   ]
  },
  {
   "cell_type": "code",
   "execution_count": 39,
   "metadata": {},
   "outputs": [
    {
     "data": {
      "text/plain": [
       "Text(0.5,1,'Jumlah Pembelian Minuman')"
      ]
     },
     "execution_count": 39,
     "metadata": {},
     "output_type": "execute_result"
    },
    {
     "data": {
      "image/png": "[encoded data removed]",
      "text/plain": [
       "<matplotlib.figure.Figure at 0x1bba023bbe0>"
      ]
     },
     "metadata": {},
     "output_type": "display_data"
    }
   ],
   "source": []
  },
  {
   "cell_type": "markdown",
   "metadata": {},
   "source": [
    "### Cluster 1 (Cluster With a Moderate Number of Purchasing)"
   ]
  },
  {
   "cell_type": "code",
   "execution_count": 40,
   "metadata": {
    "scrolled": true
   },
   "outputs": [
    {
     "data": {
      "text/plain": [
       "Text(0.5,1,'Jumlah Penggunaan Metode Pembayaran')"
      ]
     },
     "execution_count": 40,
     "metadata": {},
     "output_type": "execute_result"
    },
    {
     "data": {
      "image/png": "[encoded data removed]",
      "text/plain": [
       "<matplotlib.figure.Figure at 0x1bba02b44a8>"
      ]
     },
     "metadata": {},
     "output_type": "display_data"
    }
   ],
   "source": [
    "klaster_1 = data[data.Klaster == 1]\n",
    "payment_1 = klaster_1.groupby(\"Payment\")\n",
    "hitung = payment_1[\"Payment\"].count().sort_values(ascending = False)\n",
    "\n",
    "sns.barplot(x = hitung.index, y = hitung)\n",
    "plt.xticks(rotation = 45, fontsize = 10)\n",
    "plt.title(\"Jumlah Penggunaan Metode Pembayaran\")"
   ]
  },
  {
   "cell_type": "code",
   "execution_count": 41,
   "metadata": {},
   "outputs": [
    {
     "data": {
      "text/plain": [
       "Text(0.5,1,'Jumlah Pembelian Minuman')"
      ]
     },
     "execution_count": 41,
     "metadata": {},
     "output_type": "execute_result"
    },
    {
     "data": {
      "image/png": "[encoded data removed]",
      "text/plain": [
       "<matplotlib.figure.Figure at 0x26067eff470>"
      ]
     },
     "metadata": {},
     "output_type": "display_data"
    }
   ],
   "source": [
    "f = plt.figure(figsize = (15,5))\n",
    "klaster_1 = data[data.Klaster == 1]\n",
    "burger_1 = klaster_1.groupby(\"Type Burger\")\n",
    "hitung = burger_1[\"Amount Burger\"].count().sort_values(ascending = False)\n",
    "\n",
    "f.add_subplot(1, 2, 1)\n",
    "sns.barplot(x = hitung.index, y = hitung)\n",
    "plt.xticks(rotation = 45, fontsize = 10)\n",
    "plt.title(\"Jumlah Pembelian Burger\")\n",
    "\n",
    "klaster_1 = data[data.Klaster == 1]\n",
    "drink_1 = klaster_1.groupby(\"Type Drink\")\n",
    "hitung = drink_1[\"Amount Drink\"].count().sort_values(ascending = False)\n",
    "\n",
    "f.add_subplot(1, 2, 2)\n",
    "sns.barplot(x = hitung.index, y = hitung)\n",
    "plt.xticks(rotation = 45, fontsize = 10)\n",
    "plt.title(\"Jumlah Pembelian Minuman\")"
   ]
  },
  {
   "cell_type": "markdown",
   "metadata": {},
   "source": [
    "### Cluster 2 (Cluster With a Large Number of Purchasing)"
   ]
  },
  {
   "cell_type": "code",
   "execution_count": 43,
   "metadata": {},
   "outputs": [
    {
     "data": {
      "text/plain": [
       "Text(0.5,1,'Jumlah Penggunaan Metode Pembayaran')"
      ]
     },
     "execution_count": 43,
     "metadata": {},
     "output_type": "execute_result"
    },
    {
     "data": {
      "image/png": "[encoded data removed]",
      "text/plain": [
       "<matplotlib.figure.Figure at 0x1bba037ee48>"
      ]
     },
     "metadata": {},
     "output_type": "display_data"
    }
   ],
   "source": [
    "klaster_2 = data[data.Klaster == 2]\n",
    "payment_2 = klaster_2.groupby(\"Payment\")\n",
    "hitung = payment_2[\"Payment\"].count().sort_values(ascending = False)\n",
    "\n",
    "sns.barplot(x = hitung.index, y = hitung)\n",
    "plt.xticks(rotation = 45, fontsize = 10)\n",
    "plt.title(\"Jumlah Penggunaan Metode Pembayaran\")"
   ]
  },
  {
   "cell_type": "code",
   "execution_count": 42,
   "metadata": {},
   "outputs": [
    {
     "data": {
      "text/plain": [
       "Text(0.5,1,'Jumlah Pembelian Minuman')"
      ]
     },
     "execution_count": 42,
     "metadata": {},
     "output_type": "execute_result"
    },
    {
     "data": {
      "image/png": "[encoded data removed]",
      "text/plain": [
       "<matplotlib.figure.Figure at 0x26068138cf8>"
      ]
     },
     "metadata": {},
     "output_type": "display_data"
    }
   ],
   "source": [
    "f = plt.figure(figsize = (15,5))\n",
    "klaster_2 = data[data.Klaster == 2]\n",
    "burger_2 = klaster_2.groupby(\"Type Burger\")\n",
    "hitung = burger_2[\"Amount Burger\"].count().sort_values(ascending = False)\n",
    "\n",
    "f.add_subplot(1, 2, 1)\n",
    "sns.barplot(x = hitung.index, y = hitung)\n",
    "plt.xticks(rotation = 45, fontsize = 10)\n",
    "plt.title(\"Jumlah Pembelian Burger\")\n",
    "\n",
    "klaster_2 = data[data.Klaster == 2]\n",
    "drink_2 = klaster_2.groupby(\"Type Drink\")\n",
    "hitung = drink_2[\"Amount Drink\"].count().sort_values(ascending = False)\n",
    "\n",
    "f.add_subplot(1, 2, 2)\n",
    "sns.barplot(x = hitung.index, y = hitung)\n",
    "plt.xticks(rotation = 45, fontsize = 10)\n",
    "plt.title(\"Jumlah Pembelian Minuman\")"
   ]
  }
 ],
 "metadata": {
  "kernelspec": {
   "display_name": "Python 3",
   "language": "python",
   "name": "python3"
  },
  "language_info": {
   "codemirror_mode": {
    "name": "ipython",
    "version": 3
   },
   "file_extension": ".py",
   "mimetype": "text/x-python",
   "name": "python",
   "nbconvert_exporter": "python",
   "pygments_lexer": "ipython3",
   "version": "3.6.4"
  }
 },
 "nbformat": 4,
 "nbformat_minor": 2
}
