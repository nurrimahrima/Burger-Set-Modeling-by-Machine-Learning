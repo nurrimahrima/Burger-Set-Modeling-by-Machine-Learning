{
 "cells": [
  {
   "cell_type": "markdown",
   "metadata": {},
   "source": [
    "# BURGER SET MODELING FOR BUSINESS PROFIT\n",
    "In this modeling, we will choose to perform 'Association' modeling to get business insight for company's profit. The 'Association' modeling we used are 'Association Rule Learning with Apriori Algorithm'."
   ]
  },
  {
   "cell_type": "markdown",
   "metadata": {},
   "source": [
    "## 1. LOAD DATA\n",
    "Read data to perform Modelling Machine Learning 'Association' by input as 'df' variable"
   ]
  },
  {
   "cell_type": "code",
   "execution_count": 9,
   "metadata": {
    "colab": {},
    "colab_type": "code",
    "id": "WgYaYb2GUMQ0"
   },
   "outputs": [],
   "source": [
    "import pandas as pd\n",
    "from mlxtend.preprocessing import OnehotTransactions\n",
    "from mlxtend.frequent_patterns import apriori\n",
    "from mlxtend.frequent_patterns import association_rules"
   ]
  },
  {
   "cell_type": "code",
   "execution_count": 7,
   "metadata": {
    "colab": {
     "base_uri": "https://localhost:8080/",
     "height": 255
    },
    "colab_type": "code",
    "id": "rmEx8QpYUSas",
    "outputId": "69710aa7-2e16-4159-b951-21cf400ce45b"
   },
   "outputs": [
    {
     "data": {
      "text/html": [
       "<div>\n",
       "<style scoped>\n",
       "    .dataframe tbody tr th:only-of-type {\n",
       "        vertical-align: middle;\n",
       "    }\n",
       "\n",
       "    .dataframe tbody tr th {\n",
       "        vertical-align: top;\n",
       "    }\n",
       "\n",
       "    .dataframe thead th {\n",
       "        text-align: right;\n",
       "    }\n",
       "</style>\n",
       "<table border=\"1\" class=\"dataframe\">\n",
       "  <thead>\n",
       "    <tr style=\"text-align: right;\">\n",
       "      <th></th>\n",
       "      <th>Timestamp</th>\n",
       "      <th>Type Burger</th>\n",
       "      <th>Code Burger</th>\n",
       "      <th>Amount Burger</th>\n",
       "      <th>Type Drink</th>\n",
       "      <th>Code Drink</th>\n",
       "      <th>Amount Drink</th>\n",
       "      <th>Gender</th>\n",
       "      <th>Payment</th>\n",
       "    </tr>\n",
       "  </thead>\n",
       "  <tbody>\n",
       "    <tr>\n",
       "      <th>0</th>\n",
       "      <td>10:01</td>\n",
       "      <td>Beef burger</td>\n",
       "      <td>1</td>\n",
       "      <td>6</td>\n",
       "      <td>Mineral water</td>\n",
       "      <td>1</td>\n",
       "      <td>3</td>\n",
       "      <td>1</td>\n",
       "      <td>DANA</td>\n",
       "    </tr>\n",
       "    <tr>\n",
       "      <th>1</th>\n",
       "      <td>10:04</td>\n",
       "      <td>Cheese burger</td>\n",
       "      <td>3</td>\n",
       "      <td>12</td>\n",
       "      <td>Coke</td>\n",
       "      <td>2</td>\n",
       "      <td>10</td>\n",
       "      <td>0</td>\n",
       "      <td>DANA</td>\n",
       "    </tr>\n",
       "    <tr>\n",
       "      <th>2</th>\n",
       "      <td>10:05</td>\n",
       "      <td>Double cheese burger</td>\n",
       "      <td>4</td>\n",
       "      <td>10</td>\n",
       "      <td>Mineral water</td>\n",
       "      <td>1</td>\n",
       "      <td>5</td>\n",
       "      <td>0</td>\n",
       "      <td>LINK AJA</td>\n",
       "    </tr>\n",
       "    <tr>\n",
       "      <th>3</th>\n",
       "      <td>10:06</td>\n",
       "      <td>Chicken burger</td>\n",
       "      <td>2</td>\n",
       "      <td>9</td>\n",
       "      <td>Coffe</td>\n",
       "      <td>3</td>\n",
       "      <td>9</td>\n",
       "      <td>0</td>\n",
       "      <td>DANA</td>\n",
       "    </tr>\n",
       "    <tr>\n",
       "      <th>4</th>\n",
       "      <td>10:07</td>\n",
       "      <td>Cheese burger</td>\n",
       "      <td>3</td>\n",
       "      <td>11</td>\n",
       "      <td>Coke</td>\n",
       "      <td>2</td>\n",
       "      <td>3</td>\n",
       "      <td>1</td>\n",
       "      <td>DANA</td>\n",
       "    </tr>\n",
       "  </tbody>\n",
       "</table>\n",
       "</div>"
      ],
      "text/plain": [
       "  Timestamp           Type Burger  Code Burger  Amount Burger     Type Drink  \\\n",
       "0     10:01           Beef burger            1              6  Mineral water   \n",
       "1     10:04         Cheese burger            3             12           Coke   \n",
       "2     10:05  Double cheese burger            4             10  Mineral water   \n",
       "3     10:06        Chicken burger            2              9          Coffe   \n",
       "4     10:07         Cheese burger            3             11           Coke   \n",
       "\n",
       "   Code Drink  Amount Drink  Gender   Payment  \n",
       "0           1             3       1      DANA  \n",
       "1           2            10       0      DANA  \n",
       "2           1             5       0  LINK AJA  \n",
       "3           3             9       0      DANA  \n",
       "4           2             3       1      DANA  "
      ]
     },
     "execution_count": 7,
     "metadata": {},
     "output_type": "execute_result"
    }
   ],
   "source": [
    "df = pd.read_csv('Static Dataset Transaction - Burger Star (Outlet A) .csv')\n",
    "df.head()"
   ]
  },
  {
   "cell_type": "markdown",
   "metadata": {},
   "source": [
    "In this case, first, dataframe need to be converted to list as preprocessing step before modeling"
   ]
  },
  {
   "cell_type": "code",
   "execution_count": 0,
   "metadata": {
    "colab": {
     "base_uri": "https://localhost:8080/",
     "height": 119
    },
    "colab_type": "code",
    "id": "W9k9yFGqfnU4",
    "outputId": "b600dc0c-0e61-42f5-b494-18e018c50d15"
   },
   "outputs": [
    {
     "data": {
      "text/plain": [
       "0             [Beef burger, Mineral water]\n",
       "1                    [Cheese burger, Coke]\n",
       "2    [Double cheese burger, Mineral water]\n",
       "3                  [Chicken burger, Coffe]\n",
       "4                    [Cheese burger, Coke]\n",
       "Name: new, dtype: object"
      ]
     },
     "execution_count": 168,
     "metadata": {
      "tags": []
     },
     "output_type": "execute_result"
    }
   ],
   "source": [
    "df['new'] = df[['Type Burger','Type Drink']].values.tolist() #values.tolist is used to change df to list\n",
    "df['new'].head()"
   ]
  },
  {
   "cell_type": "markdown",
   "metadata": {},
   "source": [
    "## 2. MODELING BY MACHINE LEARNING\n",
    "The modeling is 'Association Rules Learning with Apriori Algorithm'. <br>\n",
    "Apriori algorithm is a process used to find frequent-itemset by doing iteration on dataset. Frequent-itemset is an indication of itemset that has a frequency of occurrence more than the minimum value that has been determined. <br>\n",
    "Association Rule Learning adalah data mining techniques to find associative rules between a combination of items. Support from an association rule is the presentation of combinations of items in a database. Confidence of an association rule is a measure of the accuracy of a rule that can be used to measure the strength of the relationships between items in the association rule. Lift ratio is a measure to determine the strength of the association rule that has been formed and can be useful for predicting the consequent in future data sets. <br>\n",
    "Meanwhile, itemsets are consist of two combination, which is X is called antecedent or left-hand-side (LHS) and Y is called consequent or right-hand-side (RHS)."
   ]
  },
  {
   "cell_type": "code",
   "execution_count": 0,
   "metadata": {
    "colab": {
     "base_uri": "https://localhost:8080/",
     "height": 238
    },
    "colab_type": "code",
    "id": "Bd4x_-6Cii6W",
    "outputId": "cde7bc06-1209-412f-887d-00c7e6faeaf6"
   },
   "outputs": [
    {
     "data": {
      "text/html": [
       "<div>\n",
       "<style scoped>\n",
       "    .dataframe tbody tr th:only-of-type {\n",
       "        vertical-align: middle;\n",
       "    }\n",
       "\n",
       "    .dataframe tbody tr th {\n",
       "        vertical-align: top;\n",
       "    }\n",
       "\n",
       "    .dataframe thead th {\n",
       "        text-align: right;\n",
       "    }\n",
       "</style>\n",
       "<table border=\"1\" class=\"dataframe\">\n",
       "  <thead>\n",
       "    <tr style=\"text-align: right;\">\n",
       "      <th></th>\n",
       "      <th>antecedents</th>\n",
       "      <th>consequents</th>\n",
       "      <th>antecedent support</th>\n",
       "      <th>consequent support</th>\n",
       "      <th>support</th>\n",
       "      <th>confidence</th>\n",
       "      <th>lift</th>\n",
       "      <th>leverage</th>\n",
       "      <th>conviction</th>\n",
       "    </tr>\n",
       "  </thead>\n",
       "  <tbody>\n",
       "    <tr>\n",
       "      <th>0</th>\n",
       "      <td>(Coffe)</td>\n",
       "      <td>(Beef burger)</td>\n",
       "      <td>0.282051</td>\n",
       "      <td>0.371795</td>\n",
       "      <td>0.089744</td>\n",
       "      <td>0.318182</td>\n",
       "      <td>0.855799</td>\n",
       "      <td>-0.015122</td>\n",
       "      <td>0.921368</td>\n",
       "    </tr>\n",
       "    <tr>\n",
       "      <th>1</th>\n",
       "      <td>(Beef burger)</td>\n",
       "      <td>(Coffe)</td>\n",
       "      <td>0.371795</td>\n",
       "      <td>0.282051</td>\n",
       "      <td>0.089744</td>\n",
       "      <td>0.241379</td>\n",
       "      <td>0.855799</td>\n",
       "      <td>-0.015122</td>\n",
       "      <td>0.946387</td>\n",
       "    </tr>\n",
       "    <tr>\n",
       "      <th>2</th>\n",
       "      <td>(Beef burger)</td>\n",
       "      <td>(Coke)</td>\n",
       "      <td>0.371795</td>\n",
       "      <td>0.221154</td>\n",
       "      <td>0.041667</td>\n",
       "      <td>0.112069</td>\n",
       "      <td>0.506747</td>\n",
       "      <td>-0.040557</td>\n",
       "      <td>0.877147</td>\n",
       "    </tr>\n",
       "    <tr>\n",
       "      <th>3</th>\n",
       "      <td>(Coke)</td>\n",
       "      <td>(Beef burger)</td>\n",
       "      <td>0.221154</td>\n",
       "      <td>0.371795</td>\n",
       "      <td>0.041667</td>\n",
       "      <td>0.188406</td>\n",
       "      <td>0.506747</td>\n",
       "      <td>-0.040557</td>\n",
       "      <td>0.774038</td>\n",
       "    </tr>\n",
       "    <tr>\n",
       "      <th>4</th>\n",
       "      <td>(Mineral water)</td>\n",
       "      <td>(Beef burger)</td>\n",
       "      <td>0.349359</td>\n",
       "      <td>0.371795</td>\n",
       "      <td>0.205128</td>\n",
       "      <td>0.587156</td>\n",
       "      <td>1.579247</td>\n",
       "      <td>0.075238</td>\n",
       "      <td>1.521652</td>\n",
       "    </tr>\n",
       "  </tbody>\n",
       "</table>\n",
       "</div>"
      ],
      "text/plain": [
       "       antecedents    consequents  ...  leverage  conviction\n",
       "0          (Coffe)  (Beef burger)  ... -0.015122    0.921368\n",
       "1    (Beef burger)        (Coffe)  ... -0.015122    0.946387\n",
       "2    (Beef burger)         (Coke)  ... -0.040557    0.877147\n",
       "3           (Coke)  (Beef burger)  ... -0.040557    0.774038\n",
       "4  (Mineral water)  (Beef burger)  ...  0.075238    1.521652\n",
       "\n",
       "[5 rows x 9 columns]"
      ]
     },
     "execution_count": 170,
     "metadata": {
      "tags": []
     },
     "output_type": "execute_result"
    }
   ],
   "source": [
    "association_rules(frequent_itemsets, metric=\"confidence\", min_threshold=0.05)\n",
    "rules = association_rules(frequent_itemsets, metric=\"lift\", min_threshold=0.05)\n",
    "rules.head()"
   ]
  },
  {
   "cell_type": "code",
   "execution_count": 0,
   "metadata": {
    "colab": {
     "base_uri": "https://localhost:8080/",
     "height": 1000
    },
    "colab_type": "code",
    "id": "nPiRLGgSil9w",
    "outputId": "9195b6c7-564d-438c-af8c-0215151528a4"
   },
   "outputs": [
    {
     "name": "stdout",
     "output_type": "stream",
     "text": [
      "     Beef burger  Cheese burger  ...  Mineral water   None\n",
      "0           True          False  ...           True  False\n",
      "1          False           True  ...          False  False\n",
      "2          False          False  ...           True  False\n",
      "3          False          False  ...          False  False\n",
      "4          False           True  ...          False  False\n",
      "5          False          False  ...           True  False\n",
      "6           True          False  ...           True  False\n",
      "7           True          False  ...           True  False\n",
      "8          False          False  ...          False  False\n",
      "9          False          False  ...          False  False\n",
      "10         False           True  ...          False  False\n",
      "11          True          False  ...           True  False\n",
      "12         False          False  ...          False   True\n",
      "13          True          False  ...           True  False\n",
      "14          True          False  ...           True  False\n",
      "15          True          False  ...           True  False\n",
      "16          True          False  ...           True  False\n",
      "17          True          False  ...          False  False\n",
      "18          True          False  ...          False  False\n",
      "19         False          False  ...          False  False\n",
      "20         False           True  ...          False  False\n",
      "21         False          False  ...           True  False\n",
      "22         False          False  ...          False  False\n",
      "23         False          False  ...           True  False\n",
      "24          True          False  ...          False   True\n",
      "25         False          False  ...          False   True\n",
      "26         False           True  ...          False  False\n",
      "27         False          False  ...           True  False\n",
      "28          True          False  ...           True  False\n",
      "29         False          False  ...          False  False\n",
      "..           ...            ...  ...            ...    ...\n",
      "282         True          False  ...          False  False\n",
      "283         True          False  ...           True  False\n",
      "284         True          False  ...           True  False\n",
      "285        False          False  ...          False  False\n",
      "286        False          False  ...          False   True\n",
      "287        False           True  ...          False  False\n",
      "288        False          False  ...           True  False\n",
      "289        False          False  ...          False  False\n",
      "290        False           True  ...          False  False\n",
      "291        False          False  ...           True  False\n",
      "292         True          False  ...           True  False\n",
      "293        False          False  ...          False   True\n",
      "294         True          False  ...           True  False\n",
      "295        False          False  ...          False  False\n",
      "296        False          False  ...          False   True\n",
      "297        False           True  ...          False  False\n",
      "298        False          False  ...           True  False\n",
      "299        False          False  ...          False  False\n",
      "300        False           True  ...          False  False\n",
      "301        False          False  ...           True  False\n",
      "302         True          False  ...           True  False\n",
      "303        False          False  ...          False   True\n",
      "304         True          False  ...           True  False\n",
      "305         True          False  ...          False  False\n",
      "306         True          False  ...          False  False\n",
      "307         True          False  ...           True  False\n",
      "308         True          False  ...           True  False\n",
      "309         True          False  ...           True  False\n",
      "310         True          False  ...          False  False\n",
      "311         True          False  ...          False   True\n",
      "\n",
      "[312 rows x 8 columns]\n"
     ]
    },
    {
     "name": "stderr",
     "output_type": "stream",
     "text": [
      "/usr/local/lib/python3.6/dist-packages/mlxtend/preprocessing/onehot.py:66: DeprecationWarning: OnehotTransactions has been deprecated and will be removed in future. Please use TransactionEncoder instead.\n",
      "  warnings.warn(msg, DeprecationWarning)\n"
     ]
    }
   ],
   "source": [
    "oht = OnehotTransactions() # OnehotTransactions: Encoder class for transaction data in Python lists\n",
    "oht_ary = oht.fit(df['new']).transform(df['new'])\n",
    "df1 = pd.DataFrame(oht_ary, columns=oht.columns_)\n",
    "print (df1) "
   ]
  },
  {
   "cell_type": "code",
   "execution_count": 0,
   "metadata": {
    "colab": {
     "base_uri": "https://localhost:8080/",
     "height": 323
    },
    "colab_type": "code",
    "id": "caeim8O-irIQ",
    "outputId": "966e5979-761b-464b-edd0-5bc865d1188a"
   },
   "outputs": [
    {
     "name": "stdout",
     "output_type": "stream",
     "text": [
      "     support                               itemsets\n",
      "0   0.371795                          (Beef burger)\n",
      "1   0.179487                        (Cheese burger)\n",
      "2   0.227564                       (Chicken burger)\n",
      "3   0.282051                                (Coffe)\n",
      "4   0.221154                                 (Coke)\n",
      "5   0.221154                 (Double cheese burger)\n",
      "6   0.349359                        (Mineral water)\n",
      "7   0.147436                                 (None)\n",
      "8   0.089744                   (Coffe, Beef burger)\n",
      "9   0.041667                    (Beef burger, Coke)\n",
      "10  0.205128           (Mineral water, Beef burger)\n",
      "11  0.035256                    (Beef burger, None)\n",
      "12  0.179487                  (Coke, Cheese burger)\n",
      "13  0.115385                (Coffe, Chicken burger)\n",
      "14  0.112179                 (None, Chicken burger)\n",
      "15  0.076923          (Coffe, Double cheese burger)\n",
      "16  0.144231  (Mineral water, Double cheese burger)\n"
     ]
    }
   ],
   "source": [
    "frequent_itemsets = apriori(df1, min_support=0.005, use_colnames=True)\n",
    "print (frequent_itemsets)"
   ]
  },
  {
   "cell_type": "markdown",
   "metadata": {
    "colab": {},
    "colab_type": "code",
    "id": "-ifYnACJi2Zj"
   },
   "source": [
    "From the support result above, it can be seen that the highest support itemset is {Beef Burger} with support 37%, the second ones is {Mineral Water} with 34%, and the highest combination of two items is {Mineral Water; Beef Burger} with 20%."
   ]
  },
  {
   "cell_type": "markdown",
   "metadata": {},
   "source": [
    "## 3. MAKE DESCRIPTIVE VISUALIZATION FOR DATA UNDERSTANDING"
   ]
  },
  {
   "cell_type": "code",
   "execution_count": 10,
   "metadata": {},
   "outputs": [],
   "source": [
    "# Import the Package to Make the Visualization\n",
    "import matplotlib.pyplot as plt \n",
    "import seaborn as sns "
   ]
  },
  {
   "cell_type": "code",
   "execution_count": 11,
   "metadata": {},
   "outputs": [
    {
     "data": {
      "image/png": "[encoded data removed]",
      "text/plain": [
       "<matplotlib.figure.Figure at 0x1ec1b912f28>"
      ]
     },
     "metadata": {},
     "output_type": "display_data"
    },
    {
     "data": {
      "image/png": "[encoded data removed]",
      "text/plain": [
       "<matplotlib.figure.Figure at 0x1ec1b4ffcf8>"
      ]
     },
     "metadata": {},
     "output_type": "display_data"
    }
   ],
   "source": [
    "f=plt.figure(figsize=(21,3))\n",
    "f.add_subplot(1,2,1)\n",
    "sns.countplot(df['Type Burger'])\n",
    "plt.xticks(rotation=40)\n",
    "f.add_subplot(1,2,2)\n",
    "sns.countplot(df['Type Drink'])\n",
    "plt.xticks(rotation=40)\n",
    "f=plt.figure(figsize=(21,3))\n",
    "f.add_subplot(1,2,1)\n",
    "sns.countplot(df['Payment'])\n",
    "plt.xticks(rotation=40)\n",
    "f.add_subplot(1,2,2)\n",
    "sns.countplot(df['Gender'])\n",
    "plt.xticks(rotation=40)\n",
    "sns.set_context(rc={'axes.labelsize':15, 'ytick.labelsize':15, 'xtick.labelsize':20})"
   ]
  },
  {
   "cell_type": "code",
   "execution_count": null,
   "metadata": {},
   "outputs": [],
   "source": []
  }
 ],
 "metadata": {
  "colab": {
   "name": "Untitled0.ipynb",
   "provenance": [],
   "version": "0.3.2"
  },
  "kernelspec": {
   "display_name": "Python 3",
   "language": "python",
   "name": "python3"
  },
  "language_info": {
   "codemirror_mode": {
    "name": "ipython",
    "version": 3
   },
   "file_extension": ".py",
   "mimetype": "text/x-python",
   "name": "python",
   "nbconvert_exporter": "python",
   "pygments_lexer": "ipython3",
   "version": "3.6.4"
  }
 },
 "nbformat": 4,
 "nbformat_minor": 1
}
